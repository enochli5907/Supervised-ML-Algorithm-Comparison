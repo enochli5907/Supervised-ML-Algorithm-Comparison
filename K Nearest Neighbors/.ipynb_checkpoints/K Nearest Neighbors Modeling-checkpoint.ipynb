{
 "cells": [
  {
   "cell_type": "code",
   "execution_count": 3,
   "metadata": {},
   "outputs": [],
   "source": [
    "# MAKE SURE TO RUN THIS CELL BEFORE MAKING EDITS\n",
    "\n",
    "# import libaries and set global variables\n",
    "import pandas as pd\n",
    "import numpy as np\n",
    "import sklearn\n",
    "import joblib\n",
    "from sklearn.model_selection import train_test_split, GridSearchCV, StratifiedKFold\n",
    "from sklearn.preprocessing import StandardScaler\n",
    "from sklearn.neighbors import KNeighborsClassifier\n",
    "from sklearn.pipeline import Pipeline"
   ]
  },
  {
   "cell_type": "code",
   "execution_count": 45,
   "metadata": {},
   "outputs": [],
   "source": [
    "# read in the datasets for kNN\n",
    "adult = pd.read_csv('Data/adult_clean.csv')\n",
    "cover = pd.read_csv('Data/cover_clean.csv')\n",
    "letter_p1 = pd.read_csv('Data/letter_p1.csv')\n",
    "letter_p2 = pd.read_csv('Data/letter_p2.csv')"
   ]
  },
  {
   "cell_type": "code",
   "execution_count": 46,
   "metadata": {},
   "outputs": [],
   "source": [
    "# separate the datasets into the data (X) and labels (Y)\n",
    "adult_X = adult.iloc[:,:-1]\n",
    "adult_Y = adult.iloc[:,-1]\n",
    "\n",
    "cover_X = cover.iloc[:,:-1]\n",
    "cover_Y = cover.iloc[:,-1]\n",
    "\n",
    "letter_p1_X = letter_p1.iloc[:,:-1]\n",
    "letter_p1_Y = letter_p1.iloc[:,-1]\n",
    "\n",
    "letter_p2_X = letter_p2.iloc[:,:-1]\n",
    "letter_p2_Y = letter_p2.iloc[:,-1]"
   ]
  },
  {
   "cell_type": "code",
   "execution_count": 47,
   "metadata": {},
   "outputs": [],
   "source": [
    "# get k values\n",
    "k = list((np.logspace(0,2.699, 25,dtype='int')))  # 2.699 is the approx. equiv. to log(500)/log(10)\n",
    "\n",
    "# define the cross-validation\n",
    "cv = StratifiedKFold(n_splits=5)\n",
    "\n",
    "# build the pipeline\n",
    "pipe = Pipeline([('std', StandardScaler()),\n",
    "                 ('classifier', KNeighborsClassifier())])\n",
    "\n",
    "# setting up the parameters\n",
    "param = {'classifier__n_neighbors': k,\n",
    "         'classifier__weights': ['uniform','distance'],\n",
    "         'classifier__n_jobs': [-1]}\n",
    "\n",
    "# create grid search\n",
    "clf = GridSearchCV(estimator=pipe, param_grid=param, cv=cv, scoring='accuracy', n_jobs=-1, verbose=0)"
   ]
  },
  {
   "cell_type": "markdown",
   "metadata": {},
   "source": [
    "### Run KNN on each of the datasets for 3 trials"
   ]
  },
  {
   "cell_type": "code",
   "execution_count": 71,
   "metadata": {},
   "outputs": [
    {
     "name": "stdout",
     "output_type": "stream",
     "text": [
      "CPU times: user 18.1 s, sys: 2.92 s, total: 21.1 s\n",
      "Wall time: 10min 6s\n"
     ]
    }
   ],
   "source": [
    "%%time\n",
    "\n",
    "# run for 3 trials\n",
    "for trial in [1,2,3]:\n",
    "    \n",
    "    # split the data into 5000 points for training and save the rest for testing\n",
    "    adult_X_train, adult_X_test, adult_Y_train, adult_Y_test = train_test_split(adult_X,adult_Y,\n",
    "                                                                              train_size=5000, random_state=118)\n",
    "\n",
    "    cover_X_train, cover_X_test, cover_Y_train, cover_Y_test = train_test_split(cover_X,cover_Y,\n",
    "                                                                              train_size=5000, random_state=118)\n",
    "\n",
    "    letter_p1_X_train, letter_p1_X_test, letter_p1_Y_train, letter_p1_Y_test = train_test_split(letter_p1_X,letter_p1_Y,\n",
    "                                                                              train_size=5000, random_state=118)\n",
    "\n",
    "    letter_p2_X_train, letter_p2_X_test, letter_p2_Y_train, letter_p2_Y_test = train_test_split(letter_p2_X,letter_p2_Y,\n",
    "                                                                              train_size=5000, random_state=118)\n",
    "    \n",
    "    # fit the grid search on adult dataset\n",
    "    adult_model = clf.fit(adult_X_train, adult_Y_train)\n",
    "    adult_file = 'Models/adult_model_'+str(trial)+'.pkl'\n",
    "    joblib.dump(adult_model, adult_file, compress=1)\n",
    "    \n",
    "    # fit the grid search on cover dataset\n",
    "    cover_model = clf.fit(cover_X_train, cover_Y_train)\n",
    "    cover_file = 'Models/cover_model_'+str(trial)+'.pkl'\n",
    "    joblib.dump(cover_model, cover_file, compress=1)\n",
    "    \n",
    "    # fit the grid search on letter_p1 dataset\n",
    "    letter_p1_model = clf.fit(letter_p1_X_train, letter_p1_Y_train)\n",
    "    letter_p1_file = 'Models/letter_p1_model_'+str(trial)+'.pkl'\n",
    "    joblib.dump(letter_p1_model, letter_p1_file, compress=1)\n",
    "\n",
    "    # fit the grid search on letter_p2 dataset\n",
    "    letter_p2_model = clf.fit(letter_p2_X_train, letter_p2_Y_train)\n",
    "    letter_p2_file = 'Models/letter_p2_model_'+str(trial)+'.pkl'\n",
    "    joblib.dump(letter_p2_model_1, letter_p2_file, compress=1)"
   ]
  },
  {
   "cell_type": "markdown",
   "metadata": {},
   "source": [
    "### Compare the different models and choose the best parameters"
   ]
  },
  {
   "cell_type": "code",
   "execution_count": 5,
   "metadata": {},
   "outputs": [],
   "source": [
    "adult_model_1 = joblib.load('Models/adult_model_1.pkl')"
   ]
  },
  {
   "cell_type": "code",
   "execution_count": 34,
   "metadata": {
    "scrolled": true
   },
   "outputs": [
    {
     "data": {
      "text/plain": [
       "GridSearchCV(cv=StratifiedKFold(n_splits=5, random_state=None, shuffle=False),\n",
       "             error_score=nan,\n",
       "             estimator=Pipeline(memory=None,\n",
       "                                steps=[('std',\n",
       "                                        StandardScaler(copy=True,\n",
       "                                                       with_mean=True,\n",
       "                                                       with_std=True)),\n",
       "                                       ('classifier',\n",
       "                                        KNeighborsClassifier(algorithm='auto',\n",
       "                                                             leaf_size=30,\n",
       "                                                             metric='minkowski',\n",
       "                                                             metric_params=None,\n",
       "                                                             n_jobs=None,\n",
       "                                                             n_neighbors=5, p=2,\n",
       "                                                             weights='uniform'))],\n",
       "                                verbose=False),\n",
       "             iid='deprecated', n_jobs=-1,\n",
       "             param_grid={'classifier__n_jobs': [-1],\n",
       "                         'classifier__n_neighbors': [1, 1, 1, 2, 2, 3, 4, 6, 7,\n",
       "                                                     10, 13, 17, 22, 28, 37, 48,\n",
       "                                                     62, 81, 105, 136, 177, 229,\n",
       "                                                     297, 385, 500],\n",
       "                         'classifier__weights': ['uniform', 'distance']},\n",
       "             pre_dispatch='2*n_jobs', refit=True, return_train_score=False,\n",
       "             scoring='accuracy', verbose=0)"
      ]
     },
     "execution_count": 34,
     "metadata": {},
     "output_type": "execute_result"
    }
   ],
   "source": [
    "best_model1"
   ]
  },
  {
   "cell_type": "code",
   "execution_count": 35,
   "metadata": {},
   "outputs": [
    {
     "data": {
      "text/plain": [
       "{'mean_fit_time': array([0.20860696, 0.37385154, 0.37568541, 0.29368734, 0.36283579,\n",
       "        0.37615256, 0.40208387, 0.47743788, 0.46356759, 0.43857017,\n",
       "        0.34040899, 0.36415577, 0.20909262, 0.34003963, 0.39902582,\n",
       "        0.44362116, 0.53030515, 0.3810719 , 0.49950085, 0.47472553,\n",
       "        0.52249918, 0.40905509, 0.42645888, 0.36299005, 0.32898989,\n",
       "        0.35874066, 0.47715182, 0.42147584, 0.36981306, 0.49313798,\n",
       "        0.4206017 , 0.45151453, 0.5364706 , 0.40608549, 0.44229517,\n",
       "        0.48574095, 0.45874085, 0.49963393, 0.4253161 , 0.46746235,\n",
       "        0.42137475, 0.69799061, 0.40537753, 0.45653157, 0.48056626,\n",
       "        0.35772491, 0.56305809, 0.47847438, 0.42039514, 0.41899428]),\n",
       " 'std_fit_time': array([0.16615036, 0.14739608, 0.19972158, 0.11318617, 0.1323236 ,\n",
       "        0.07207183, 0.06159526, 0.11475229, 0.15805637, 0.07839364,\n",
       "        0.04693646, 0.07941392, 0.05160477, 0.18292012, 0.14035167,\n",
       "        0.17890701, 0.11510517, 0.07208783, 0.0876976 , 0.11548681,\n",
       "        0.11457421, 0.05972544, 0.14031268, 0.12296238, 0.18427873,\n",
       "        0.07071209, 0.11857101, 0.11207296, 0.18635131, 0.40023902,\n",
       "        0.16649236, 0.10513457, 0.20856778, 0.10800872, 0.17730305,\n",
       "        0.07401379, 0.22068469, 0.1426939 , 0.1508537 , 0.09920629,\n",
       "        0.0916444 , 0.25900428, 0.24757481, 0.0801708 , 0.2372327 ,\n",
       "        0.05148442, 0.2257652 , 0.16987118, 0.16517324, 0.11439206]),\n",
       " 'mean_score_time': array([2.24465432, 2.04092612, 2.2562645 , 1.94858837, 2.04480987,\n",
       "        1.32066817, 2.19997902, 1.57961717, 2.3750092 , 1.98052363,\n",
       "        2.54754152, 2.13211622, 2.13826494, 2.33387604, 2.31562991,\n",
       "        2.21441922, 2.55435038, 2.07202744, 2.82205639, 2.78516588,\n",
       "        2.57606921, 2.1365562 , 2.93704171, 2.35395112, 2.93897653,\n",
       "        2.35966444, 2.71847377, 2.42018766, 2.8702426 , 2.62360435,\n",
       "        3.15565872, 2.5650135 , 2.81650848, 2.41681204, 2.932307  ,\n",
       "        2.66120028, 2.65871005, 2.6421916 , 3.05935917, 2.37619033,\n",
       "        3.32177382, 2.80221915, 3.15890679, 2.82223082, 3.29978971,\n",
       "        2.70086222, 3.62127371, 2.84180188, 3.63925285, 2.29091063]),\n",
       " 'std_score_time': array([0.2052773 , 0.2180834 , 0.30064213, 0.53299813, 0.43717283,\n",
       "        0.27933104, 0.14034655, 0.30651819, 0.32909826, 0.3438222 ,\n",
       "        0.44724695, 0.23160389, 0.22409867, 0.31737122, 0.32091543,\n",
       "        0.2639625 , 0.18520306, 0.41895314, 0.1061726 , 0.28854034,\n",
       "        0.34581399, 0.22740229, 0.24477322, 0.14864993, 0.4641251 ,\n",
       "        0.41698048, 0.75586344, 0.36414212, 0.20955641, 0.66558167,\n",
       "        0.11791062, 0.50716746, 0.62892524, 0.40535451, 0.37019374,\n",
       "        0.38301189, 0.48860926, 0.40252833, 0.35563671, 0.43676342,\n",
       "        0.35782429, 0.2867803 , 0.39539797, 0.63228671, 0.45997943,\n",
       "        0.53920327, 0.47035688, 0.6230417 , 0.39707508, 0.9198149 ]),\n",
       " 'param_classifier__n_jobs': masked_array(data=[-1, -1, -1, -1, -1, -1, -1, -1, -1, -1, -1, -1, -1, -1,\n",
       "                    -1, -1, -1, -1, -1, -1, -1, -1, -1, -1, -1, -1, -1, -1,\n",
       "                    -1, -1, -1, -1, -1, -1, -1, -1, -1, -1, -1, -1, -1, -1,\n",
       "                    -1, -1, -1, -1, -1, -1, -1, -1],\n",
       "              mask=[False, False, False, False, False, False, False, False,\n",
       "                    False, False, False, False, False, False, False, False,\n",
       "                    False, False, False, False, False, False, False, False,\n",
       "                    False, False, False, False, False, False, False, False,\n",
       "                    False, False, False, False, False, False, False, False,\n",
       "                    False, False, False, False, False, False, False, False,\n",
       "                    False, False],\n",
       "        fill_value='?',\n",
       "             dtype=object),\n",
       " 'param_classifier__n_neighbors': masked_array(data=[1, 1, 1, 1, 1, 1, 2, 2, 2, 2, 3, 3, 4, 4, 6, 6, 7, 7,\n",
       "                    10, 10, 13, 13, 17, 17, 22, 22, 28, 28, 37, 37, 48, 48,\n",
       "                    62, 62, 81, 81, 105, 105, 136, 136, 177, 177, 229, 229,\n",
       "                    297, 297, 385, 385, 500, 500],\n",
       "              mask=[False, False, False, False, False, False, False, False,\n",
       "                    False, False, False, False, False, False, False, False,\n",
       "                    False, False, False, False, False, False, False, False,\n",
       "                    False, False, False, False, False, False, False, False,\n",
       "                    False, False, False, False, False, False, False, False,\n",
       "                    False, False, False, False, False, False, False, False,\n",
       "                    False, False],\n",
       "        fill_value='?',\n",
       "             dtype=object),\n",
       " 'param_classifier__weights': masked_array(data=['uniform', 'distance', 'uniform', 'distance',\n",
       "                    'uniform', 'distance', 'uniform', 'distance',\n",
       "                    'uniform', 'distance', 'uniform', 'distance',\n",
       "                    'uniform', 'distance', 'uniform', 'distance',\n",
       "                    'uniform', 'distance', 'uniform', 'distance',\n",
       "                    'uniform', 'distance', 'uniform', 'distance',\n",
       "                    'uniform', 'distance', 'uniform', 'distance',\n",
       "                    'uniform', 'distance', 'uniform', 'distance',\n",
       "                    'uniform', 'distance', 'uniform', 'distance',\n",
       "                    'uniform', 'distance', 'uniform', 'distance',\n",
       "                    'uniform', 'distance', 'uniform', 'distance',\n",
       "                    'uniform', 'distance', 'uniform', 'distance',\n",
       "                    'uniform', 'distance'],\n",
       "              mask=[False, False, False, False, False, False, False, False,\n",
       "                    False, False, False, False, False, False, False, False,\n",
       "                    False, False, False, False, False, False, False, False,\n",
       "                    False, False, False, False, False, False, False, False,\n",
       "                    False, False, False, False, False, False, False, False,\n",
       "                    False, False, False, False, False, False, False, False,\n",
       "                    False, False],\n",
       "        fill_value='?',\n",
       "             dtype=object),\n",
       " 'params': [{'classifier__n_jobs': -1,\n",
       "   'classifier__n_neighbors': 1,\n",
       "   'classifier__weights': 'uniform'},\n",
       "  {'classifier__n_jobs': -1,\n",
       "   'classifier__n_neighbors': 1,\n",
       "   'classifier__weights': 'distance'},\n",
       "  {'classifier__n_jobs': -1,\n",
       "   'classifier__n_neighbors': 1,\n",
       "   'classifier__weights': 'uniform'},\n",
       "  {'classifier__n_jobs': -1,\n",
       "   'classifier__n_neighbors': 1,\n",
       "   'classifier__weights': 'distance'},\n",
       "  {'classifier__n_jobs': -1,\n",
       "   'classifier__n_neighbors': 1,\n",
       "   'classifier__weights': 'uniform'},\n",
       "  {'classifier__n_jobs': -1,\n",
       "   'classifier__n_neighbors': 1,\n",
       "   'classifier__weights': 'distance'},\n",
       "  {'classifier__n_jobs': -1,\n",
       "   'classifier__n_neighbors': 2,\n",
       "   'classifier__weights': 'uniform'},\n",
       "  {'classifier__n_jobs': -1,\n",
       "   'classifier__n_neighbors': 2,\n",
       "   'classifier__weights': 'distance'},\n",
       "  {'classifier__n_jobs': -1,\n",
       "   'classifier__n_neighbors': 2,\n",
       "   'classifier__weights': 'uniform'},\n",
       "  {'classifier__n_jobs': -1,\n",
       "   'classifier__n_neighbors': 2,\n",
       "   'classifier__weights': 'distance'},\n",
       "  {'classifier__n_jobs': -1,\n",
       "   'classifier__n_neighbors': 3,\n",
       "   'classifier__weights': 'uniform'},\n",
       "  {'classifier__n_jobs': -1,\n",
       "   'classifier__n_neighbors': 3,\n",
       "   'classifier__weights': 'distance'},\n",
       "  {'classifier__n_jobs': -1,\n",
       "   'classifier__n_neighbors': 4,\n",
       "   'classifier__weights': 'uniform'},\n",
       "  {'classifier__n_jobs': -1,\n",
       "   'classifier__n_neighbors': 4,\n",
       "   'classifier__weights': 'distance'},\n",
       "  {'classifier__n_jobs': -1,\n",
       "   'classifier__n_neighbors': 6,\n",
       "   'classifier__weights': 'uniform'},\n",
       "  {'classifier__n_jobs': -1,\n",
       "   'classifier__n_neighbors': 6,\n",
       "   'classifier__weights': 'distance'},\n",
       "  {'classifier__n_jobs': -1,\n",
       "   'classifier__n_neighbors': 7,\n",
       "   'classifier__weights': 'uniform'},\n",
       "  {'classifier__n_jobs': -1,\n",
       "   'classifier__n_neighbors': 7,\n",
       "   'classifier__weights': 'distance'},\n",
       "  {'classifier__n_jobs': -1,\n",
       "   'classifier__n_neighbors': 10,\n",
       "   'classifier__weights': 'uniform'},\n",
       "  {'classifier__n_jobs': -1,\n",
       "   'classifier__n_neighbors': 10,\n",
       "   'classifier__weights': 'distance'},\n",
       "  {'classifier__n_jobs': -1,\n",
       "   'classifier__n_neighbors': 13,\n",
       "   'classifier__weights': 'uniform'},\n",
       "  {'classifier__n_jobs': -1,\n",
       "   'classifier__n_neighbors': 13,\n",
       "   'classifier__weights': 'distance'},\n",
       "  {'classifier__n_jobs': -1,\n",
       "   'classifier__n_neighbors': 17,\n",
       "   'classifier__weights': 'uniform'},\n",
       "  {'classifier__n_jobs': -1,\n",
       "   'classifier__n_neighbors': 17,\n",
       "   'classifier__weights': 'distance'},\n",
       "  {'classifier__n_jobs': -1,\n",
       "   'classifier__n_neighbors': 22,\n",
       "   'classifier__weights': 'uniform'},\n",
       "  {'classifier__n_jobs': -1,\n",
       "   'classifier__n_neighbors': 22,\n",
       "   'classifier__weights': 'distance'},\n",
       "  {'classifier__n_jobs': -1,\n",
       "   'classifier__n_neighbors': 28,\n",
       "   'classifier__weights': 'uniform'},\n",
       "  {'classifier__n_jobs': -1,\n",
       "   'classifier__n_neighbors': 28,\n",
       "   'classifier__weights': 'distance'},\n",
       "  {'classifier__n_jobs': -1,\n",
       "   'classifier__n_neighbors': 37,\n",
       "   'classifier__weights': 'uniform'},\n",
       "  {'classifier__n_jobs': -1,\n",
       "   'classifier__n_neighbors': 37,\n",
       "   'classifier__weights': 'distance'},\n",
       "  {'classifier__n_jobs': -1,\n",
       "   'classifier__n_neighbors': 48,\n",
       "   'classifier__weights': 'uniform'},\n",
       "  {'classifier__n_jobs': -1,\n",
       "   'classifier__n_neighbors': 48,\n",
       "   'classifier__weights': 'distance'},\n",
       "  {'classifier__n_jobs': -1,\n",
       "   'classifier__n_neighbors': 62,\n",
       "   'classifier__weights': 'uniform'},\n",
       "  {'classifier__n_jobs': -1,\n",
       "   'classifier__n_neighbors': 62,\n",
       "   'classifier__weights': 'distance'},\n",
       "  {'classifier__n_jobs': -1,\n",
       "   'classifier__n_neighbors': 81,\n",
       "   'classifier__weights': 'uniform'},\n",
       "  {'classifier__n_jobs': -1,\n",
       "   'classifier__n_neighbors': 81,\n",
       "   'classifier__weights': 'distance'},\n",
       "  {'classifier__n_jobs': -1,\n",
       "   'classifier__n_neighbors': 105,\n",
       "   'classifier__weights': 'uniform'},\n",
       "  {'classifier__n_jobs': -1,\n",
       "   'classifier__n_neighbors': 105,\n",
       "   'classifier__weights': 'distance'},\n",
       "  {'classifier__n_jobs': -1,\n",
       "   'classifier__n_neighbors': 136,\n",
       "   'classifier__weights': 'uniform'},\n",
       "  {'classifier__n_jobs': -1,\n",
       "   'classifier__n_neighbors': 136,\n",
       "   'classifier__weights': 'distance'},\n",
       "  {'classifier__n_jobs': -1,\n",
       "   'classifier__n_neighbors': 177,\n",
       "   'classifier__weights': 'uniform'},\n",
       "  {'classifier__n_jobs': -1,\n",
       "   'classifier__n_neighbors': 177,\n",
       "   'classifier__weights': 'distance'},\n",
       "  {'classifier__n_jobs': -1,\n",
       "   'classifier__n_neighbors': 229,\n",
       "   'classifier__weights': 'uniform'},\n",
       "  {'classifier__n_jobs': -1,\n",
       "   'classifier__n_neighbors': 229,\n",
       "   'classifier__weights': 'distance'},\n",
       "  {'classifier__n_jobs': -1,\n",
       "   'classifier__n_neighbors': 297,\n",
       "   'classifier__weights': 'uniform'},\n",
       "  {'classifier__n_jobs': -1,\n",
       "   'classifier__n_neighbors': 297,\n",
       "   'classifier__weights': 'distance'},\n",
       "  {'classifier__n_jobs': -1,\n",
       "   'classifier__n_neighbors': 385,\n",
       "   'classifier__weights': 'uniform'},\n",
       "  {'classifier__n_jobs': -1,\n",
       "   'classifier__n_neighbors': 385,\n",
       "   'classifier__weights': 'distance'},\n",
       "  {'classifier__n_jobs': -1,\n",
       "   'classifier__n_neighbors': 500,\n",
       "   'classifier__weights': 'uniform'},\n",
       "  {'classifier__n_jobs': -1,\n",
       "   'classifier__n_neighbors': 500,\n",
       "   'classifier__weights': 'distance'}],\n",
       " 'split0_test_score': array([0.788, 0.788, 0.788, 0.788, 0.788, 0.788, 0.805, 0.788, 0.805,\n",
       "        0.788, 0.802, 0.792, 0.804, 0.799, 0.806, 0.805, 0.806, 0.811,\n",
       "        0.812, 0.816, 0.821, 0.821, 0.827, 0.821, 0.819, 0.825, 0.819,\n",
       "        0.82 , 0.814, 0.821, 0.808, 0.818, 0.807, 0.815, 0.806, 0.814,\n",
       "        0.808, 0.811, 0.812, 0.815, 0.819, 0.817, 0.817, 0.813, 0.816,\n",
       "        0.817, 0.817, 0.813, 0.821, 0.817]),\n",
       " 'split1_test_score': array([0.798, 0.798, 0.798, 0.798, 0.798, 0.798, 0.817, 0.798, 0.817,\n",
       "        0.798, 0.815, 0.807, 0.816, 0.822, 0.825, 0.822, 0.826, 0.823,\n",
       "        0.832, 0.837, 0.835, 0.838, 0.843, 0.842, 0.841, 0.851, 0.844,\n",
       "        0.852, 0.84 , 0.845, 0.837, 0.84 , 0.83 , 0.836, 0.839, 0.837,\n",
       "        0.836, 0.837, 0.837, 0.832, 0.831, 0.829, 0.83 , 0.829, 0.829,\n",
       "        0.832, 0.821, 0.826, 0.813, 0.822]),\n",
       " 'split2_test_score': array([0.797, 0.797, 0.797, 0.797, 0.797, 0.797, 0.803, 0.797, 0.803,\n",
       "        0.797, 0.801, 0.799, 0.811, 0.798, 0.822, 0.813, 0.834, 0.826,\n",
       "        0.835, 0.826, 0.831, 0.833, 0.831, 0.826, 0.83 , 0.831, 0.826,\n",
       "        0.828, 0.822, 0.821, 0.825, 0.823, 0.837, 0.834, 0.834, 0.834,\n",
       "        0.836, 0.836, 0.837, 0.833, 0.839, 0.838, 0.838, 0.838, 0.828,\n",
       "        0.829, 0.83 , 0.826, 0.82 , 0.829]),\n",
       " 'split3_test_score': array([0.787, 0.787, 0.787, 0.787, 0.787, 0.787, 0.804, 0.787, 0.804,\n",
       "        0.787, 0.819, 0.815, 0.81 , 0.811, 0.822, 0.82 , 0.828, 0.822,\n",
       "        0.831, 0.828, 0.841, 0.839, 0.846, 0.836, 0.837, 0.845, 0.845,\n",
       "        0.844, 0.845, 0.847, 0.841, 0.845, 0.834, 0.84 , 0.834, 0.836,\n",
       "        0.843, 0.84 , 0.84 , 0.845, 0.845, 0.85 , 0.842, 0.843, 0.842,\n",
       "        0.842, 0.832, 0.836, 0.816, 0.824]),\n",
       " 'split4_test_score': array([0.778, 0.778, 0.778, 0.778, 0.778, 0.778, 0.801, 0.778, 0.801,\n",
       "        0.778, 0.808, 0.804, 0.817, 0.807, 0.82 , 0.822, 0.811, 0.815,\n",
       "        0.814, 0.819, 0.816, 0.824, 0.816, 0.822, 0.822, 0.829, 0.826,\n",
       "        0.83 , 0.828, 0.835, 0.828, 0.834, 0.825, 0.832, 0.826, 0.826,\n",
       "        0.823, 0.824, 0.823, 0.824, 0.828, 0.828, 0.83 , 0.827, 0.831,\n",
       "        0.833, 0.828, 0.834, 0.815, 0.818]),\n",
       " 'mean_test_score': array([0.7896, 0.7896, 0.7896, 0.7896, 0.7896, 0.7896, 0.806 , 0.7896,\n",
       "        0.806 , 0.7896, 0.809 , 0.8034, 0.8116, 0.8074, 0.819 , 0.8164,\n",
       "        0.821 , 0.8194, 0.8248, 0.8252, 0.8288, 0.831 , 0.8326, 0.8294,\n",
       "        0.8298, 0.8362, 0.832 , 0.8348, 0.8298, 0.8338, 0.8278, 0.832 ,\n",
       "        0.8266, 0.8314, 0.8278, 0.8294, 0.8292, 0.8296, 0.8298, 0.8298,\n",
       "        0.8324, 0.8324, 0.8314, 0.83  , 0.8292, 0.8306, 0.8256, 0.827 ,\n",
       "        0.817 , 0.822 ]),\n",
       " 'std_test_score': array([0.00733757, 0.00733757, 0.00733757, 0.00733757, 0.00733757,\n",
       "        0.00733757, 0.00565685, 0.00733757, 0.00565685, 0.00733757,\n",
       "        0.00707107, 0.00770973, 0.00467333, 0.00877724, 0.00669328,\n",
       "        0.0065909 , 0.01065833, 0.00553534, 0.00974474, 0.00735935,\n",
       "        0.00913017, 0.00729383, 0.01092886, 0.0082365 , 0.00842378,\n",
       "        0.010008  , 0.01052616, 0.01156547, 0.01139122, 0.01121428,\n",
       "        0.01147868, 0.01013903, 0.01059434, 0.00861626, 0.01166876,\n",
       "        0.00861626, 0.01241612, 0.01078147, 0.01068457, 0.00998799,\n",
       "        0.00897998, 0.01103812, 0.00856971, 0.01031504, 0.0082801 ,\n",
       "        0.00806474, 0.00567803, 0.00809938, 0.00303315, 0.0043359 ]),\n",
       " 'rank_test_score': array([43, 43, 43, 43, 43, 43, 40, 43, 40, 43, 38, 42, 37, 39, 34, 36, 32,\n",
       "        33, 30, 29, 23, 11,  4, 19, 14,  1,  7,  2, 14,  3, 24,  7, 27,  9,\n",
       "        24, 19, 21, 18, 16, 16,  5,  5,  9, 13, 21, 12, 28, 26, 35, 31],\n",
       "       dtype=int32)}"
      ]
     },
     "execution_count": 35,
     "metadata": {},
     "output_type": "execute_result"
    }
   ],
   "source": [
    "best_model1.cv_results_"
   ]
  },
  {
   "cell_type": "code",
   "execution_count": 9,
   "metadata": {},
   "outputs": [
    {
     "data": {
      "text/plain": [
       "KNeighborsClassifier(algorithm='auto', leaf_size=30, metric='minkowski',\n",
       "                     metric_params=None, n_jobs=-1, n_neighbors=28, p=2,\n",
       "                     weights='distance')"
      ]
     },
     "execution_count": 9,
     "metadata": {},
     "output_type": "execute_result"
    }
   ],
   "source": [
    "best_model.best_estimator_.get_params()['classifier']"
   ]
  },
  {
   "cell_type": "code",
   "execution_count": 10,
   "metadata": {},
   "outputs": [
    {
     "data": {
      "text/plain": [
       "0.8336"
      ]
     },
     "execution_count": 10,
     "metadata": {},
     "output_type": "execute_result"
    }
   ],
   "source": [
    "best_model.best_score_"
   ]
  },
  {
   "cell_type": "code",
   "execution_count": 11,
   "metadata": {
    "scrolled": true
   },
   "outputs": [
    {
     "data": {
      "text/plain": [
       "<matplotlib.axes._subplots.AxesSubplot at 0x7f5e7bfff0d0>"
      ]
     },
     "execution_count": 11,
     "metadata": {},
     "output_type": "execute_result"
    },
    {
     "data": {
      "image/png": "[encoded data removed]",
      "text/plain": [
       "<Figure size 432x288 with 2 Axes>"
      ]
     },
     "metadata": {
      "needs_background": "light"
     },
     "output_type": "display_data"
    }
   ],
   "source": [
    "import seaborn as sns\n",
    "from sklearn.metrics import confusion_matrix\n",
    "pred = best_model.best_estimator_.predict(adult_X_train)\n",
    "\n",
    "cm = confusion_matrix(adult_Y_train, pred)\n",
    "sns.heatmap(cm/np.sum(cm),fmt='.2%', annot=True)"
   ]
  }
 ],
 "metadata": {
  "kernelspec": {
   "display_name": "Python 3",
   "language": "python",
   "name": "python3"
  },
  "language_info": {
   "codemirror_mode": {
    "name": "ipython",
    "version": 3
   },
   "file_extension": ".py",
   "mimetype": "text/x-python",
   "name": "python",
   "nbconvert_exporter": "python",
   "pygments_lexer": "ipython3",
   "version": "3.7.6"
  }
 },
 "nbformat": 4,
 "nbformat_minor": 4
}
