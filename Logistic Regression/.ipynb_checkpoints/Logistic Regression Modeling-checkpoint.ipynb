{
 "cells": [
  {
   "cell_type": "markdown",
   "metadata": {},
   "source": [
    "## Logistic Regression\n",
    "\n",
    "For Logistic Regression, this is the outline of what I will be doing\n",
    "<pre>\n",
    "For each dataset:\n",
    "    - read in the data and separate the labels from the data\n",
    "\n",
    "Build the GridSearchCV by defining: k, cv, pipeline for estimator, and params\n",
    "\n",
    "Loop x3:\n",
    "    - draw 5k random samples as training data, set aside rest for testing\n",
    "    - GridSearchCV on training data to find the best hyperparameters\n",
    "    - pick the best classifier, train on all training data (as it has been fit on the last CV fold from the gridsearch)\n",
    "    - get the training and testing accuracy of this best classifier\n",
    "    - record everything final analysis\n",
    "</pre>"
   ]
  },
  {
   "cell_type": "code",
   "execution_count": 13,
   "metadata": {},
   "outputs": [],
   "source": [
    "# MAKE SURE TO RUN THIS CELL BEFORE MAKING EDITS\n",
    "\n",
    "# import libaries and set global variables\n",
    "import os.path\n",
    "import pandas as pd\n",
    "import numpy as np\n",
    "import joblib\n",
    "from sklearn.model_selection import train_test_split, GridSearchCV, StratifiedKFold\n",
    "from sklearn.preprocessing import StandardScaler\n",
    "from sklearn.linear_model import \n",
    "from sklearn.pipeline import Pipeline\n",
    "from sklearn.metrics import accuracy_score"
   ]
  },
  {
   "cell_type": "code",
   "execution_count": 16,
   "metadata": {},
   "outputs": [],
   "source": [
    "# read in the datasets for logistic regression\n",
    "adult = pd.read_csv('Data/adult_clean.csv')\n"
   ]
  }
 ],
 "metadata": {
  "kernelspec": {
   "display_name": "Python 3",
   "language": "python",
   "name": "python3"
  },
  "language_info": {
   "codemirror_mode": {
    "name": "ipython",
    "version": 3
   },
   "file_extension": ".py",
   "mimetype": "text/x-python",
   "name": "python",
   "nbconvert_exporter": "python",
   "pygments_lexer": "ipython3",
   "version": "3.7.6"
  }
 },
 "nbformat": 4,
 "nbformat_minor": 4
}
